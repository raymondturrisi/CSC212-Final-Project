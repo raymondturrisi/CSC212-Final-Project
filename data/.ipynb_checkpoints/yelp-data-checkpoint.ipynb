{
 "cells": [
  {
   "cell_type": "code",
   "execution_count": 3,
   "metadata": {},
   "outputs": [],
   "source": [
    "# A Jupyter notebook for gathering and formatting location data using Yelp's API and Python\n",
    "\n",
    "# Resources:\n",
    "# Python 'requests' HTTP library - https://requests.readthedocs.io/en/master/\n"
   ]
  },
  {
   "cell_type": "code",
   "execution_count": 4,
   "metadata": {},
   "outputs": [],
   "source": [
    "import requests"
   ]
  },
  {
   "cell_type": "code",
   "execution_count": 15,
   "metadata": {},
   "outputs": [
    {
     "name": "stdout",
     "output_type": "stream",
     "text": [
      "Response= {\"error\": {\"code\": \"VALIDATION_ERROR\", \"description\": \"Authorization is a required parameter.\", \"field\": \"Authorization\", \"instance\": null}}\n"
     ]
    }
   ],
   "source": [
    "YELP_API_KEY = 'OA7QK3BGg6NX8NSPb2e4nTvvpHuw99lCUgZa5WAVYBYR2nu-zbVejthwyDKMraMV1Dhq85FGGl_jPzcd7rB-mGS97yyHCTLYG_Bw3ccA6T9C6Aj4M57FBgWysiPFX3Yx'\n",
    "\n",
    "try:\n",
    "    request_url = f'https://api.yelp.com/v3/businesses/search'\n",
    "    headers={'Authorization': f'Bearer {YELP_API_KEY}'}\n",
    "    url_params = {\n",
    "        'term': 'coffee',\n",
    "    }\n",
    "    r = requests.get(request_url, headers)\n",
    "    \n",
    "    #print(headers['Authorization'])\n",
    "    \n",
    "    print('Response=', r.text)\n",
    "    \n",
    "except Exception as e:\n",
    "    print(\"Exception=\", e)"
   ]
  },
  {
   "cell_type": "code",
   "execution_count": null,
   "metadata": {},
   "outputs": [],
   "source": []
  }
 ],
 "metadata": {
  "kernelspec": {
   "display_name": "Python 3",
   "language": "python",
   "name": "python3"
  },
  "language_info": {
   "codemirror_mode": {
    "name": "ipython",
    "version": 3
   },
   "file_extension": ".py",
   "mimetype": "text/x-python",
   "name": "python",
   "nbconvert_exporter": "python",
   "pygments_lexer": "ipython3",
   "version": "3.7.3"
  }
 },
 "nbformat": 4,
 "nbformat_minor": 2
}
