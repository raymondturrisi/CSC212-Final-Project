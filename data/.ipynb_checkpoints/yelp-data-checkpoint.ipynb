{
 "cells": [
  {
   "cell_type": "code",
   "execution_count": 3,
   "metadata": {},
   "outputs": [],
   "source": [
    "# A Jupyter notebook for gathering and formatting location data using Yelp's API and Python\n",
    "\n",
    "# Resources:\n",
    "# Python 'requests' HTTP library - https://requests.readthedocs.io/en/master/\n"
   ]
  },
  {
   "cell_type": "code",
   "execution_count": 49,
   "metadata": {},
   "outputs": [],
   "source": [
    "import requests\n",
    "import json"
   ]
  },
  {
   "cell_type": "code",
   "execution_count": 51,
   "metadata": {},
   "outputs": [
    {
     "name": "stdout",
     "output_type": "stream",
     "text": [
      "[]\n"
     ]
    }
   ],
   "source": [
    "YELP_API_KEY = 'OA7QK3BGg6NX8NSPb2e4nTvvpHuw99lCUgZa5WAVYBYR2nu-zbVejthwyDKMraMV1Dhq85FGGl_jPzcd7rB-mGS97yyHCTLYG_Bw3ccA6T9C6Aj4M57FBgWysiPFX3Yx'\n",
    "\n",
    "\n",
    "try:\n",
    "    #categories = ['']\n",
    "    \n",
    "    request_url = f'https://api.yelp.com/v3/businesses/search'\n",
    "    headers={'Authorization': f'Bearer {YELP_API_KEY}'}\n",
    "    search_term = \"coffee\"\n",
    "    all_businesses = []\n",
    "    \n",
    "    # Make one request to find the total number of results returned.\n",
    "    r = requests.get(request_url, headers=headers, params=url_params)\n",
    "    n_businesses = r.json()[\"total\"]\n",
    "    \n",
    "    offset = 1\n",
    "    counter = 1\n",
    "    # Get all 1,000 results returned\n",
    "    while (offset + 50) < n_businesses:\n",
    "        # Change term variable here to make requests with different search terms.\n",
    "        url_params = {\n",
    "            'term': search_term,\n",
    "            'location': 'Rhode Island',\n",
    "            'limit': 50,\n",
    "            'offset': offset\n",
    "        }\n",
    "        offset += 50\n",
    "        \n",
    "        # Make request to get 50 more businesses\n",
    "        r = requests.get(request_url, headers=headers, params=url_params)\n",
    "        print(r.r)\n",
    "        #print(len(r.json()['businesses']))\n",
    "        \n",
    "        # The payload of 50 businesses in JSON\n",
    "        businesses_payload = r.json()['businesses']\n",
    "        \n",
    "        # Append new businesses\n",
    "        all_businesses += businesses_payload\n",
    "            \n",
    "except Exception as e:\n",
    "    print(\"Exception=\", e)\n",
    "    \n",
    "print(all_businesses)"
   ]
  },
  {
   "cell_type": "code",
   "execution_count": 38,
   "metadata": {},
   "outputs": [
    {
     "name": "stdout",
     "output_type": "stream",
     "text": [
      "{'id': 'ySpCaxbeeuvo6XbYV3pmjA', 'alias': 'providence-marriott-downtown-providence-2', 'name': 'Providence Marriott Downtown', 'image_url': 'https://s3-media2.fl.yelpcdn.com/bphoto/wzoTW-Aeev-4h_a5hTUs7A/o.jpg', 'is_closed': False, 'url': 'https://www.yelp.com/biz/providence-marriott-downtown-providence-2?adjust_creative=tzi52j1y9497qJtBsFV1mg&utm_campaign=yelp_api_v3&utm_medium=api_v3_business_search&utm_source=tzi52j1y9497qJtBsFV1mg', 'review_count': 182, 'categories': [{'alias': 'hotels', 'title': 'Hotels'}, {'alias': 'venues', 'title': 'Venues & Event Spaces'}], 'rating': 3.0, 'coordinates': {'latitude': 41.8359, 'longitude': -71.413711}, 'transactions': ['delivery', 'pickup'], 'price': '$$$', 'location': {'address1': '1 Orms Street', 'address2': '', 'address3': '', 'city': 'Providence', 'zip_code': '02904', 'country': 'US', 'state': 'RI', 'display_address': ['1 Orms Street', 'Providence, RI 02904']}, 'phone': '+14012722400', 'display_phone': '(401) 272-2400', 'distance': 1125.634708815848}\n"
     ]
    }
   ],
   "source": [
    "print(all_businesses[6])\n",
    "term = search_term\n",
    "# class DefaultLocation : public BaseLocation\n",
    "# {\n",
    "\n",
    "#     std::string type = \"\";\n",
    "#     std::string name = \"\";\n",
    "#     std::string yelp_url = \"\";\n",
    "#     double rating;\n",
    "#     std::string street_address = \"\";\n",
    "#     std::string city = \"\";\n",
    "#     std::string state = \"\";\n",
    "#     std::string zip_code = \"\";\n",
    "#     std::string phone_number = \"\";\n",
    "#     int review_count;\n",
    "\n",
    "# };\n",
    "\n",
    "fname = term + \"s.csv\"\n",
    "with open(fname, \"w\") as f:\n",
    "    try:\n",
    "        for b in all_businesses:            \n",
    "            # Not all businesses have a 'price' attr. listed\n",
    "            struct = f\"{b['coordinates']['latitude']},{b['coordinates']['longitude']},{term},{b['name']},{b['url']},{b['rating']},{b['location']['address1']},{b['location']['city']},{b['location']['state']},{b['location']['zip_code']},{b['display_phone']},{b['location']['address1']},{b['review_count']}\"\n",
    "            struct += \"\\n\"\n",
    "            #print(struct)\n",
    "            f.write(struct)\n",
    "    except Exception as e:\n",
    "        print(e)\n",
    "    \n",
    "    "
   ]
  },
  {
   "cell_type": "code",
   "execution_count": null,
   "metadata": {},
   "outputs": [],
   "source": []
  }
 ],
 "metadata": {
  "kernelspec": {
   "display_name": "Python 3",
   "language": "python",
   "name": "python3"
  },
  "language_info": {
   "codemirror_mode": {
    "name": "ipython",
    "version": 3
   },
   "file_extension": ".py",
   "mimetype": "text/x-python",
   "name": "python",
   "nbconvert_exporter": "python",
   "pygments_lexer": "ipython3",
   "version": "3.7.3"
  }
 },
 "nbformat": 4,
 "nbformat_minor": 2
}
