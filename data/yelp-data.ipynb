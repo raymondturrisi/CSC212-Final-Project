{
 "cells": [
  {
   "cell_type": "code",
   "execution_count": 3,
   "metadata": {},
   "outputs": [],
   "source": [
    "# A Jupyter notebook for gathering and formatting location data using Yelp's API and Python\n",
    "\n",
    "# Resources:\n",
    "# Python 'requests' HTTP library - https://requests.readthedocs.io/en/master/\n"
   ]
  },
  {
   "cell_type": "code",
   "execution_count": 87,
   "metadata": {},
   "outputs": [],
   "source": [
    "import requests\n",
    "import json"
   ]
  },
  {
   "cell_type": "code",
   "execution_count": 116,
   "metadata": {},
   "outputs": [
    {
     "name": "stdout",
     "output_type": "stream",
     "text": [
      "557\n",
      "557\n"
     ]
    }
   ],
   "source": [
    "YELP_API_KEY = 'OA7QK3BGg6NX8NSPb2e4nTvvpHuw99lCUgZa5WAVYBYR2nu-zbVejthwyDKMraMV1Dhq85FGGl_jPzcd7rB-mGS97yyHCTLYG_Bw3ccA6T9C6Aj4M57FBgWysiPFX3Yx'\n",
    "\n",
    "\n",
    "try: \n",
    "    all_businesses = []\n",
    "    request_url = f'https://api.yelp.com/v3/businesses/search'\n",
    "    headers={'Authorization': f'Bearer {YELP_API_KEY}'}\n",
    "    search_term = \"towing\"\n",
    "    \n",
    "    url_params = {\n",
    "        'term': search_term,\n",
    "        'location': 'Massachusetts',\n",
    "        'limit': 50,\n",
    "        'offset': 0\n",
    "    }\n",
    "    # Make one request to find the total number of results returned.\n",
    "    r_initial = requests.get(request_url, headers=headers, params=url_params)\n",
    "    n_businesses = r_initial.json()[\"total\"]\n",
    "    print(n_businesses)\n",
    "    \n",
    "    offset = 0\n",
    "    counter = 1\n",
    "    \n",
    "    # Get all results returned，50 at a time\n",
    "    while offset < n_businesses:\n",
    "       \n",
    "        url_params['offset'] = offset\n",
    "        offset += 50\n",
    "        \n",
    "        # Make request to get 50 more businesses\n",
    "        r = requests.get(request_url, headers=headers, params=url_params)\n",
    "        \n",
    "        # The payload of 50 businesses in JSON\n",
    "        businesses_payload = r.json()['businesses']\n",
    "        \n",
    "        # Append new businesses\n",
    "        all_businesses += businesses_payload\n",
    "            \n",
    "except Exception as e:\n",
    "    print(\"Exception=\", e)\n",
    "    \n",
    "# print('abcdefg')\n",
    "print(len(all_businesses))"
   ]
  },
  {
   "cell_type": "code",
   "execution_count": 117,
   "metadata": {},
   "outputs": [],
   "source": [
    "term = search_term\n",
    "# class DefaultLocation : public BaseLocation\n",
    "# {\n",
    "\n",
    "#     std::string type = \"\";\n",
    "#     std::string name = \"\";\n",
    "#     std::string yelp_url = \"\";\n",
    "#     double rating;\n",
    "#     std::string street_address = \"\";\n",
    "#     std::string city = \"\";\n",
    "#     std::string state = \"\";\n",
    "#     std::string zip_code = \"\";\n",
    "#     std::string phone_number = \"\";\n",
    "#     int review_count;\n",
    "\n",
    "# };\n",
    "\n",
    "fname = \"MA_\" + term.replace(\" \", \"_\") + \"s.csv\"\n",
    "with open(fname, \"w\") as f:\n",
    "    try:\n",
    "        for b in all_businesses:            \n",
    "            # Not all businesses have a 'price' attr. listed\n",
    "            struct = f\"{b['coordinates']['latitude']},{b['coordinates']['longitude']},{term},{b['name']},{b['url']},{b['rating']},{b['location']['address1']},{b['location']['city']},{b['location']['state']},{b['location']['zip_code']},{b['display_phone']},{b['location']['address1']},{b['review_count']}\"\n",
    "            struct += \"\\n\"\n",
    "            #print(struct)\n",
    "            f.write(struct)\n",
    "    except Exception as e:\n",
    "        print(e)\n",
    "    \n",
    "    "
   ]
  },
  {
   "cell_type": "code",
   "execution_count": null,
   "metadata": {},
   "outputs": [],
   "source": []
  }
 ],
 "metadata": {
  "kernelspec": {
   "display_name": "Python 3",
   "language": "python",
   "name": "python3"
  },
  "language_info": {
   "codemirror_mode": {
    "name": "ipython",
    "version": 3
   },
   "file_extension": ".py",
   "mimetype": "text/x-python",
   "name": "python",
   "nbconvert_exporter": "python",
   "pygments_lexer": "ipython3",
   "version": "3.7.3"
  }
 },
 "nbformat": 4,
 "nbformat_minor": 2
}
