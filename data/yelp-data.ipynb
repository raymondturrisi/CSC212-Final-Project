{
 "cells": [
  {
   "cell_type": "code",
   "execution_count": 3,
   "metadata": {},
   "outputs": [],
   "source": [
    "# A Jupyter notebook for gathering and formatting location data using Yelp's API and Python\n",
    "\n",
    "# Resources:\n",
    "# Python 'requests' HTTP library - https://requests.readthedocs.io/en/master/\n"
   ]
  },
  {
   "cell_type": "code",
   "execution_count": 14,
   "metadata": {},
   "outputs": [],
   "source": [
    "import requests\n",
    "import json"
   ]
  },
  {
   "cell_type": "code",
   "execution_count": 15,
   "metadata": {},
   "outputs": [
    {
     "name": "stdout",
     "output_type": "stream",
     "text": [
      "# of alcohol locations  177\n",
      "# of automotive locations  420\n",
      "# of bank locations  78\n",
      "# of barber locations  62\n",
      "# of coffee locations  288\n",
      "# of hiking locations  15\n",
      "# of hotel locations  34\n",
      "# of landscaping locations  117\n",
      "# of lawyer locations  84\n",
      "# of police locations  7\n",
      "# of school locations  72\n",
      "# of steak locations  423\n",
      "# of theater locations  67\n",
      "# of towing locations  79\n",
      "Total # of locations retrieved =  1895\n",
      "Total # of request made =  60\n"
     ]
    }
   ],
   "source": [
    "YELP_API_KEY = 'OA7QK3BGg6NX8NSPb2e4nTvvpHuw99lCUgZa5WAVYBYR2nu-zbVejthwyDKMraMV1Dhq85FGGl_jPzcd7rB-mGS97yyHCTLYG_Bw3ccA6T9C6Aj4M57FBgWysiPFX3Yx'\n",
    "\n",
    "location_types = ['alcohol', 'automotive', 'bank', 'barber', 'coffee', 'hiking', 'hotel', 'landscaping', 'lawyer', 'police', 'school', 'steak', 'theater', 'towing']\n",
    "\n",
    "all_businesses = []\n",
    "n_requests_made = 0\n",
    "\n",
    "for location_type in location_types:\n",
    "    \n",
    "    try: \n",
    "        request_url = f'https://api.yelp.com/v3/businesses/search'\n",
    "        headers={'Authorization': f'Bearer {YELP_API_KEY}'}\n",
    "\n",
    "        url_params = {\n",
    "            'term': location_type,\n",
    "            'location': 'Connecticut',\n",
    "            'limit': 50,\n",
    "            'offset': 0\n",
    "        }\n",
    "        # Make one request to find the total number of results returned.\n",
    "        r_initial = requests.get(request_url, headers=headers, params=url_params)\n",
    "        n_requests_made += 1\n",
    "        n_businesses = r_initial.json()[\"total\"]\n",
    "        print(f\"# of {location_type} locations \", n_businesses)\n",
    "\n",
    "        offset = 0\n",
    "        counter = 1\n",
    "\n",
    "        # Get all results returned，50 at a time\n",
    "        while offset < n_businesses:\n",
    "\n",
    "            url_params['offset'] = offset\n",
    "            offset += 50\n",
    "\n",
    "            # Make request to get 50 more businesses\n",
    "            r = requests.get(request_url, headers=headers, params=url_params)\n",
    "            n_requests_made += 1\n",
    "\n",
    "            # The payload of 50 businesses in JSON\n",
    "            businesses_payload = r.json()['businesses']\n",
    "\n",
    "            # Append new businesses\n",
    "            all_businesses += businesses_payload\n",
    "\n",
    "    except Exception as e:\n",
    "        print(\"Exception=\", e)\n",
    "\n",
    "# print('abcdefg')\n",
    "print(\"Total # of locations retrieved = \", len(all_businesses))\n",
    "\n",
    "# (Daily total limit of 5,000)\n",
    "print(\"Total # of request made = \", n_requests_made)"
   ]
  },
  {
   "cell_type": "code",
   "execution_count": 17,
   "metadata": {},
   "outputs": [
    {
     "name": "stdout",
     "output_type": "stream",
     "text": [
      "alcohol\n",
      "automotive\n",
      "bank\n",
      "barber\n",
      "coffee\n",
      "hiking\n",
      "hotel\n",
      "landscaping\n",
      "lawyer\n",
      "police\n",
      "school\n",
      "steak\n",
      "theater\n",
      "towing\n"
     ]
    }
   ],
   "source": [
    "#all_businesses"
   ]
  },
  {
   "cell_type": "code",
   "execution_count": 24,
   "metadata": {},
   "outputs": [],
   "source": [
    "# class DefaultLocation : public BaseLocation\n",
    "# {\n",
    "\n",
    "#     std::string type = \"\";\n",
    "#     std::string name = \"\";\n",
    "#     std::string yelp_url = \"\";\n",
    "#     double rating;\n",
    "#     std::string street_address = \"\";\n",
    "#     std::string city = \"\";\n",
    "#     std::string state = \"\";\n",
    "#     std::string zip_code = \"\";\n",
    "#     std::string phone_number = \"\";\n",
    "#     int review_count;\n",
    "\n",
    "# };\n",
    "\n",
    "# NOTE: The struct string below now includes methods\n",
    "# to remove all commas from incoming string data.\n",
    "\n",
    "\n",
    "for location_type in location_types:\n",
    "\n",
    "    fname = \"CT_\" + location_type.replace(\" \", \"_\") + \"s.csv\"\n",
    "    with open(fname, \"w\") as f:\n",
    "        try:\n",
    "            for b in all_businesses:            \n",
    "                # Not all businesses have a 'price' attr. listed\n",
    "                struct = f\"{b['coordinates']['latitude']},{b['coordinates']['longitude']},{location_type},{str(b['name']).replace(',', ' ')},{b['url']},{b['rating']},{str(b['location']['address1']).replace(',', ' ')},{str(b['location']['city']).replace(',', ' ')},{str(b['location']['state']).replace(',', ' ')},{b['location']['zip_code']},{str(b['display_phone']).replace(',', ' ')},{b['review_count']}\"\n",
    "                struct += \"\\n\"\n",
    "                #print(struct)\n",
    "                f.write(struct)\n",
    "            \n",
    "#             # Dedupe each data set, and drop incomplete rows\n",
    "#             type_data_set = pd.read_csv(fname).drop_duplicates().dropna(axis=0, how='any', thresh=None, subset=None, inplace=False)\n",
    "            \n",
    "            \n",
    "        except Exception as e:\n",
    "            print(e)\n",
    "\n",
    "    "
   ]
  },
  {
   "cell_type": "code",
   "execution_count": 40,
   "metadata": {},
   "outputs": [],
   "source": [
    "# Checking properties of individual type files.\n",
    "\n",
    "# 1,894 rows\n",
    "# CT_master_dirty = pd.read_csv('CT_master_dirty.csv', header=None)\n",
    "# #CT_master_dirty.info()\n",
    "# cleaned_CT_master = CT_master_dirty.drop_duplicates().dropna(axis=0, how='any', thresh=None, subset=None, inplace=False)\n",
    "# cleaned_CT_master.info()\n",
    "\n",
    "# Output cleaned CT master\n",
    "cleaned_CT_master.to_csv('CT/CT_master_clean.csv', index=False, header=False)"
   ]
  },
  {
   "cell_type": "code",
   "execution_count": 2,
   "metadata": {},
   "outputs": [],
   "source": [
    "import pandas as pd\n",
    "# REGEX\n",
    "import re"
   ]
  },
  {
   "cell_type": "code",
   "execution_count": 2,
   "metadata": {},
   "outputs": [],
   "source": [
    "cleaned = pd.read_csv('dec5_cleaned_master.csv',\n",
    "                 lineterminator='\\n',\n",
    "                 header=None)\n",
    "\n",
    "#cleaned = "
   ]
  },
  {
   "cell_type": "code",
   "execution_count": 3,
   "metadata": {},
   "outputs": [
    {
     "name": "stdout",
     "output_type": "stream",
     "text": [
      "<class 'pandas.core.frame.DataFrame'>\n",
      "RangeIndex: 9850 entries, 0 to 9849\n",
      "Data columns (total 12 columns):\n",
      "0     9850 non-null float64\n",
      "1     9850 non-null float64\n",
      "2     9850 non-null object\n",
      "3     9850 non-null object\n",
      "4     9850 non-null object\n",
      "5     9850 non-null float64\n",
      "6     9850 non-null object\n",
      "7     9850 non-null object\n",
      "8     9850 non-null object\n",
      "9     9850 non-null object\n",
      "10    9850 non-null object\n",
      "11    9850 non-null object\n",
      "dtypes: float64(3), object(9)\n",
      "memory usage: 923.5+ KB\n"
     ]
    }
   ],
   "source": [
    "cleaned.info()\n"
   ]
  },
  {
   "cell_type": "code",
   "execution_count": 9,
   "metadata": {},
   "outputs": [],
   "source": [
    "\n",
    "# Drop the extra street address axis, dedupe, drop empty rows\n",
    "# cleaned = df.drop(6, axis=1).drop_duplicates().dropna(axis=0, how='any', thresh=None, subset=None, inplace=False)\n",
    "# cleaned\n",
    "\n"
   ]
  },
  {
   "cell_type": "code",
   "execution_count": 10,
   "metadata": {},
   "outputs": [],
   "source": [
    "# cleaned = cleaned[[0, 1, 2, 3, 4, 5, 11, 7, 8, 9, 10, 12]]\n",
    "# cleaned"
   ]
  },
  {
   "cell_type": "code",
   "execution_count": 4,
   "metadata": {},
   "outputs": [],
   "source": [
    "# Removing any rows with a comma in the name (which is the only place for a comma to go)\n",
    "# Turns out there already are none. Same # rows before and after.\n",
    "#cleaned = cleaned[cleaned[5].apply(lambda x: isinstance(x, float))]\n",
    "#cleaned"
   ]
  },
  {
   "cell_type": "code",
   "execution_count": 52,
   "metadata": {},
   "outputs": [],
   "source": [
    "# December 5\n",
    "#cleaned.to_csv('dec5_cleaned_master.csv', index=False)"
   ]
  },
  {
   "cell_type": "code",
   "execution_count": 13,
   "metadata": {},
   "outputs": [
    {
     "data": {
      "text/html": [
       "<div>\n",
       "<style scoped>\n",
       "    .dataframe tbody tr th:only-of-type {\n",
       "        vertical-align: middle;\n",
       "    }\n",
       "\n",
       "    .dataframe tbody tr th {\n",
       "        vertical-align: top;\n",
       "    }\n",
       "\n",
       "    .dataframe thead th {\n",
       "        text-align: right;\n",
       "    }\n",
       "</style>\n",
       "<table border=\"1\" class=\"dataframe\">\n",
       "  <thead>\n",
       "    <tr style=\"text-align: right;\">\n",
       "      <th></th>\n",
       "      <th>0</th>\n",
       "      <th>1</th>\n",
       "      <th>2</th>\n",
       "      <th>3</th>\n",
       "      <th>4</th>\n",
       "      <th>5</th>\n",
       "      <th>6</th>\n",
       "      <th>7</th>\n",
       "      <th>8</th>\n",
       "      <th>9</th>\n",
       "      <th>10</th>\n",
       "      <th>11</th>\n",
       "    </tr>\n",
       "  </thead>\n",
       "  <tbody>\n",
       "    <tr>\n",
       "      <th>0</th>\n",
       "      <td>41.820150</td>\n",
       "      <td>-71.398170</td>\n",
       "      <td>alcohol</td>\n",
       "      <td>Campus Fine Wines</td>\n",
       "      <td>https://www.yelp.com/biz/campus-fine-wines-pro...</td>\n",
       "      <td>4.0</td>\n",
       "      <td>127 Brook St</td>\n",
       "      <td>Providence</td>\n",
       "      <td>RI</td>\n",
       "      <td>02906</td>\n",
       "      <td>(401) 621-9650</td>\n",
       "      <td>45</td>\n",
       "    </tr>\n",
       "    <tr>\n",
       "      <th>1</th>\n",
       "      <td>41.852177</td>\n",
       "      <td>-71.401346</td>\n",
       "      <td>alcohol</td>\n",
       "      <td>City Liquors</td>\n",
       "      <td>https://www.yelp.com/biz/city-liquors-providen...</td>\n",
       "      <td>3.5</td>\n",
       "      <td>1173 N Main St</td>\n",
       "      <td>Providence</td>\n",
       "      <td>RI</td>\n",
       "      <td>02904</td>\n",
       "      <td>(401) 831-2337</td>\n",
       "      <td>16</td>\n",
       "    </tr>\n",
       "    <tr>\n",
       "      <th>2</th>\n",
       "      <td>41.821982</td>\n",
       "      <td>-71.404509</td>\n",
       "      <td>alcohol</td>\n",
       "      <td>Bin 312</td>\n",
       "      <td>https://www.yelp.com/biz/bin-312-providence?ad...</td>\n",
       "      <td>5.0</td>\n",
       "      <td>312 S Main St</td>\n",
       "      <td>Providence</td>\n",
       "      <td>RI</td>\n",
       "      <td>02903</td>\n",
       "      <td>(401) 714-0040</td>\n",
       "      <td>55</td>\n",
       "    </tr>\n",
       "    <tr>\n",
       "      <th>3</th>\n",
       "      <td>41.825654</td>\n",
       "      <td>-71.386786</td>\n",
       "      <td>alcohol</td>\n",
       "      <td>Bottles Fine Wine</td>\n",
       "      <td>https://www.yelp.com/biz/bottles-fine-wine-pro...</td>\n",
       "      <td>4.0</td>\n",
       "      <td>141 Pitman St</td>\n",
       "      <td>Providence</td>\n",
       "      <td>RI</td>\n",
       "      <td>02906</td>\n",
       "      <td>(401) 372-2030</td>\n",
       "      <td>126</td>\n",
       "    </tr>\n",
       "    <tr>\n",
       "      <th>4</th>\n",
       "      <td>41.842419</td>\n",
       "      <td>-71.408478</td>\n",
       "      <td>alcohol</td>\n",
       "      <td>Nikki's Liquors</td>\n",
       "      <td>https://www.yelp.com/biz/nikkis-liquors-provid...</td>\n",
       "      <td>4.5</td>\n",
       "      <td>32 Branch Ave</td>\n",
       "      <td>Providence</td>\n",
       "      <td>RI</td>\n",
       "      <td>02904</td>\n",
       "      <td>(401) 861-9006</td>\n",
       "      <td>67</td>\n",
       "    </tr>\n",
       "    <tr>\n",
       "      <th>...</th>\n",
       "      <td>...</td>\n",
       "      <td>...</td>\n",
       "      <td>...</td>\n",
       "      <td>...</td>\n",
       "      <td>...</td>\n",
       "      <td>...</td>\n",
       "      <td>...</td>\n",
       "      <td>...</td>\n",
       "      <td>...</td>\n",
       "      <td>...</td>\n",
       "      <td>...</td>\n",
       "      <td>...</td>\n",
       "    </tr>\n",
       "    <tr>\n",
       "      <th>9845</th>\n",
       "      <td>42.479850</td>\n",
       "      <td>-71.119630</td>\n",
       "      <td>towing</td>\n",
       "      <td>Valvoline Instant Oil Change</td>\n",
       "      <td>https://www.yelp.com/biz/valvoline-instant-oil...</td>\n",
       "      <td>3.5</td>\n",
       "      <td>320 Montvale Ave</td>\n",
       "      <td>Woburn</td>\n",
       "      <td>MA</td>\n",
       "      <td>01801</td>\n",
       "      <td>(781) 933-2981</td>\n",
       "      <td>36</td>\n",
       "    </tr>\n",
       "    <tr>\n",
       "      <th>9846</th>\n",
       "      <td>42.429019</td>\n",
       "      <td>-71.013588</td>\n",
       "      <td>towing</td>\n",
       "      <td>Firestone Complete Auto Care</td>\n",
       "      <td>https://www.yelp.com/biz/firestone-complete-au...</td>\n",
       "      <td>1.5</td>\n",
       "      <td>339 Squire Rd</td>\n",
       "      <td>Revere</td>\n",
       "      <td>MA</td>\n",
       "      <td>02151</td>\n",
       "      <td>(781) 289-3720</td>\n",
       "      <td>15</td>\n",
       "    </tr>\n",
       "    <tr>\n",
       "      <th>9847</th>\n",
       "      <td>42.223062</td>\n",
       "      <td>-72.192116</td>\n",
       "      <td>towing</td>\n",
       "      <td>Intercity Lines</td>\n",
       "      <td>https://www.yelp.com/biz/intercity-lines-warre...</td>\n",
       "      <td>4.5</td>\n",
       "      <td>552 Old W Brookfield Rd</td>\n",
       "      <td>Warren</td>\n",
       "      <td>MA</td>\n",
       "      <td>01083</td>\n",
       "      <td>(800) 221-3936</td>\n",
       "      <td>41</td>\n",
       "    </tr>\n",
       "    <tr>\n",
       "      <th>9848</th>\n",
       "      <td>41.779066</td>\n",
       "      <td>-70.001852</td>\n",
       "      <td>towing</td>\n",
       "      <td>Cape Cod Truck</td>\n",
       "      <td>https://www.yelp.com/biz/cape-cod-truck-orlean...</td>\n",
       "      <td>2.5</td>\n",
       "      <td>300 Cranberry Hwy Rt 6A</td>\n",
       "      <td>Orleans</td>\n",
       "      <td>MA</td>\n",
       "      <td>02653</td>\n",
       "      <td>(508) 255-6533</td>\n",
       "      <td>3</td>\n",
       "    </tr>\n",
       "    <tr>\n",
       "      <th>9849</th>\n",
       "      <td>41.686836</td>\n",
       "      <td>-70.019111</td>\n",
       "      <td>towing</td>\n",
       "      <td>Matt's Automotive</td>\n",
       "      <td>https://www.yelp.com/biz/matts-automotive-sout...</td>\n",
       "      <td>4.5</td>\n",
       "      <td>53 Commerce Park</td>\n",
       "      <td>South Chatham</td>\n",
       "      <td>MA</td>\n",
       "      <td>02659</td>\n",
       "      <td>(508) 432-6770</td>\n",
       "      <td>4</td>\n",
       "    </tr>\n",
       "  </tbody>\n",
       "</table>\n",
       "<p>9850 rows × 12 columns</p>\n",
       "</div>"
      ],
      "text/plain": [
       "             0          1        2                             3   \\\n",
       "0     41.820150 -71.398170  alcohol             Campus Fine Wines   \n",
       "1     41.852177 -71.401346  alcohol                  City Liquors   \n",
       "2     41.821982 -71.404509  alcohol                       Bin 312   \n",
       "3     41.825654 -71.386786  alcohol             Bottles Fine Wine   \n",
       "4     41.842419 -71.408478  alcohol               Nikki's Liquors   \n",
       "...         ...        ...      ...                           ...   \n",
       "9845  42.479850 -71.119630   towing  Valvoline Instant Oil Change   \n",
       "9846  42.429019 -71.013588   towing  Firestone Complete Auto Care   \n",
       "9847  42.223062 -72.192116   towing               Intercity Lines   \n",
       "9848  41.779066 -70.001852   towing                Cape Cod Truck   \n",
       "9849  41.686836 -70.019111   towing             Matt's Automotive   \n",
       "\n",
       "                                                     4    5   \\\n",
       "0     https://www.yelp.com/biz/campus-fine-wines-pro...  4.0   \n",
       "1     https://www.yelp.com/biz/city-liquors-providen...  3.5   \n",
       "2     https://www.yelp.com/biz/bin-312-providence?ad...  5.0   \n",
       "3     https://www.yelp.com/biz/bottles-fine-wine-pro...  4.0   \n",
       "4     https://www.yelp.com/biz/nikkis-liquors-provid...  4.5   \n",
       "...                                                 ...  ...   \n",
       "9845  https://www.yelp.com/biz/valvoline-instant-oil...  3.5   \n",
       "9846  https://www.yelp.com/biz/firestone-complete-au...  1.5   \n",
       "9847  https://www.yelp.com/biz/intercity-lines-warre...  4.5   \n",
       "9848  https://www.yelp.com/biz/cape-cod-truck-orlean...  2.5   \n",
       "9849  https://www.yelp.com/biz/matts-automotive-sout...  4.5   \n",
       "\n",
       "                           6              7   8      9               10   11  \n",
       "0                127 Brook St     Providence  RI  02906  (401) 621-9650   45  \n",
       "1              1173 N Main St     Providence  RI  02904  (401) 831-2337   16  \n",
       "2               312 S Main St     Providence  RI  02903  (401) 714-0040   55  \n",
       "3               141 Pitman St     Providence  RI  02906  (401) 372-2030  126  \n",
       "4               32 Branch Ave     Providence  RI  02904  (401) 861-9006   67  \n",
       "...                       ...            ...  ..    ...             ...  ...  \n",
       "9845         320 Montvale Ave         Woburn  MA  01801  (781) 933-2981   36  \n",
       "9846            339 Squire Rd         Revere  MA  02151  (781) 289-3720   15  \n",
       "9847  552 Old W Brookfield Rd         Warren  MA  01083  (800) 221-3936   41  \n",
       "9848  300 Cranberry Hwy Rt 6A        Orleans  MA  02653  (508) 255-6533    3  \n",
       "9849         53 Commerce Park  South Chatham  MA  02659  (508) 432-6770    4  \n",
       "\n",
       "[9850 rows x 12 columns]"
      ]
     },
     "execution_count": 13,
     "metadata": {},
     "output_type": "execute_result"
    }
   ],
   "source": [
    "# December 6\n",
    "\n",
    "# New file 'cleaned' file contains all past changes.\n",
    "\n",
    "# Goal: Search for errors in the dataset and remove afflicted rows. (FOUND NO MORE BAD ROWS)\n",
    "\n",
    "# Change second arg to 'None' to display every rows.\n",
    "pd.set_option('display.max_rows', 10)\n",
    "cleaned"
   ]
  },
  {
   "cell_type": "code",
   "execution_count": 81,
   "metadata": {
    "scrolled": false
   },
   "outputs": [],
   "source": [
    "cleaned_ct = pd.read_csv('CT/CT_master_clean.csv', header=None)\n",
    "\n",
    "# Concatenate cleaned_master.csv\n",
    "pd.set_option('display.max_rows', 10)\n",
    "\n",
    "cleaned_ct[9] = cleaned_ct[9].apply(lambda x: str(x))\n",
    "\n",
    "# cleaned_ct[9]\n",
    "\n",
    "# # Fixing errors\n",
    "# # cleaned_ct = cle\n",
    "# #cleaned_ct\n",
    "\n",
    "def fix_zip_codes_len(x):\n",
    "    #print(len(x))\n",
    "    x = x[:-2]\n",
    "    if len(x) < 5:\n",
    "        return '0' + x\n",
    "\n",
    "    if len(x) > 5:\n",
    "        return x[0:]\n",
    "    \n",
    "    return x\n",
    "    \n",
    "    \n",
    "    \n",
    "cleaned_ct[9] = cleaned_ct[9].apply(fix_zip_codes_len)\n",
    "\n",
    "# pd.set_option('display.max_rows', 10)\n",
    "cleaned_ct.to_csv('CT/CT_master_clean.csv', index=False, header=False)\n",
    "\n"
   ]
  },
  {
   "cell_type": "code",
   "execution_count": 97,
   "metadata": {
    "scrolled": false
   },
   "outputs": [
    {
     "name": "stdout",
     "output_type": "stream",
     "text": [
      "<class 'pandas.core.frame.DataFrame'>\n",
      "Int64Index: 11353 entries, 0 to 9849\n",
      "Data columns (total 12 columns):\n",
      "0     11353 non-null float64\n",
      "1     11353 non-null float64\n",
      "2     11353 non-null object\n",
      "3     11353 non-null object\n",
      "4     11353 non-null object\n",
      "5     11353 non-null float64\n",
      "6     11353 non-null object\n",
      "7     11353 non-null object\n",
      "8     11353 non-null object\n",
      "9     11353 non-null object\n",
      "10    11353 non-null object\n",
      "11    11353 non-null object\n",
      "dtypes: float64(3), object(9)\n",
      "memory usage: 1.1+ MB\n"
     ]
    }
   ],
   "source": [
    "# Goal concatenate CT data and MA/RI data into one file\n",
    "\n",
    "# csvs_to_concat = ['CT/CT_master_dirty.csv', 'dec5_cleaned_master.csv']\n",
    "CT_master_clean = pd.read_csv('CT/CT_master_clean.csv', header=None)\n",
    "dec5_master = pd.read_csv('dec5_cleaned_master.csv', header=None)\n",
    "df = pd.concat([CT_master_clean, dec5_master])\n",
    "df.info()\n",
    "\n",
    "def fix_zip_codes_len(x):\n",
    "    #print(len(x))\n",
    "    if len(x) < 5:\n",
    "        return '0' + x\n",
    "\n",
    "    if len(x) > 5:\n",
    "        return x[0:]\n",
    "    \n",
    "    return x\n",
    "\n",
    "df[9] = df[9].apply(lambda x: str(x)).apply(fix_zip_codes_len)\n",
    "\n",
    "pd.set_option('display.max_rows', 10)\n",
    "df.drop_duplicates(subset=[0,1,3]).info()\n",
    "#df.to_csv('CT_MA_RI_cleaned.csv', index=False, header=False)\n"
   ]
  },
  {
   "cell_type": "code",
   "execution_count": 17,
   "metadata": {},
   "outputs": [
    {
     "name": "stdout",
     "output_type": "stream",
     "text": [
      "<class 'pandas.core.frame.DataFrame'>\n",
      "Int64Index: 10188 entries, 0 to 11352\n",
      "Data columns (total 12 columns):\n",
      "0     10188 non-null float64\n",
      "1     10188 non-null float64\n",
      "2     10188 non-null object\n",
      "3     10188 non-null object\n",
      "4     10188 non-null object\n",
      "5     10188 non-null float64\n",
      "6     10188 non-null object\n",
      "7     10188 non-null object\n",
      "8     10188 non-null object\n",
      "9     10188 non-null object\n",
      "10    10188 non-null object\n",
      "11    10188 non-null object\n",
      "dtypes: float64(3), object(9)\n",
      "memory usage: 1.0+ MB\n"
     ]
    }
   ],
   "source": []
  },
  {
   "cell_type": "code",
   "execution_count": 3,
   "metadata": {},
   "outputs": [],
   "source": [
    "import numpy as np\n",
    "import matplotlib.pyplot as plt\n",
    "import descartes\n",
    "import geopandas as gpd\n",
    "from shapely.geometry import Point, Polygon\n",
    "\n",
    "%matplotlib inline\n",
    "\n",
    "# Make a map of data"
   ]
  },
  {
   "cell_type": "code",
   "execution_count": 39,
   "metadata": {},
   "outputs": [
    {
     "data": {
      "text/html": [
       "<div>\n",
       "<style scoped>\n",
       "    .dataframe tbody tr th:only-of-type {\n",
       "        vertical-align: middle;\n",
       "    }\n",
       "\n",
       "    .dataframe tbody tr th {\n",
       "        vertical-align: top;\n",
       "    }\n",
       "\n",
       "    .dataframe thead th {\n",
       "        text-align: right;\n",
       "    }\n",
       "</style>\n",
       "<table border=\"1\" class=\"dataframe\">\n",
       "  <thead>\n",
       "    <tr style=\"text-align: right;\">\n",
       "      <th></th>\n",
       "      <th>latitude</th>\n",
       "      <th>longitude</th>\n",
       "    </tr>\n",
       "  </thead>\n",
       "  <tbody>\n",
       "    <tr>\n",
       "      <th>0</th>\n",
       "      <td>41.767530</td>\n",
       "      <td>-72.674590</td>\n",
       "    </tr>\n",
       "    <tr>\n",
       "      <th>1</th>\n",
       "      <td>41.764450</td>\n",
       "      <td>-72.732040</td>\n",
       "    </tr>\n",
       "    <tr>\n",
       "      <th>2</th>\n",
       "      <td>41.767450</td>\n",
       "      <td>-72.677280</td>\n",
       "    </tr>\n",
       "    <tr>\n",
       "      <th>3</th>\n",
       "      <td>41.743665</td>\n",
       "      <td>-72.729620</td>\n",
       "    </tr>\n",
       "    <tr>\n",
       "      <th>4</th>\n",
       "      <td>41.724737</td>\n",
       "      <td>-72.731195</td>\n",
       "    </tr>\n",
       "  </tbody>\n",
       "</table>\n",
       "</div>"
      ],
      "text/plain": [
       "    latitude  longitude\n",
       "0  41.767530 -72.674590\n",
       "1  41.764450 -72.732040\n",
       "2  41.767450 -72.677280\n",
       "3  41.743665 -72.729620\n",
       "4  41.724737 -72.731195"
      ]
     },
     "execution_count": 39,
     "metadata": {},
     "output_type": "execute_result"
    }
   ],
   "source": [
    "df = pd.read_csv('CT_MA_RI_cleaned.csv', header=None)\n",
    "# df.head()\n",
    "lat_long = pd.concat([df[0], df[1]], axis = 1)\n",
    "lat_long.columns = ['latitude', 'longitude']\n",
    "crs = {'init': 'espg:4326'}\n",
    "\n",
    "lat_long.head()"
   ]
  },
  {
   "cell_type": "code",
   "execution_count": 40,
   "metadata": {},
   "outputs": [
    {
     "data": {
      "text/plain": [
       "(-117.3754942, -0.14808, 33.9806005, 51.570903)"
      ]
     },
     "execution_count": 40,
     "metadata": {},
     "output_type": "execute_result"
    }
   ],
   "source": [
    "BBox = (lat_long.longitude.min(), lat_long.longitude.max(), lat_long.latitude.min(), lat_long.latitude.max())\n",
    "BBox\n",
    "\n",
    "df['']"
   ]
  },
  {
   "cell_type": "code",
   "execution_count": 47,
   "metadata": {},
   "outputs": [
    {
     "data": {
      "text/plain": [
       "<matplotlib.axes._subplots.AxesSubplot at 0x11c411128>"
      ]
     },
     "execution_count": 47,
     "metadata": {},
     "output_type": "execute_result"
    },
    {
     "data": {
      "image/png": "[encoded data removed]",
      "text/plain": [
       "<Figure size 1080x1080 with 1 Axes>"
      ]
     },
     "metadata": {
      "needs_background": "light"
     },
     "output_type": "display_data"
    }
   ],
   "source": [
    "ne_map = gpd.read_file('tl_2016_us_necta/tl_2016_us_necta.shp')\n",
    "fig,ax = plt.subplots(figsize=(15,15))\n",
    "ne_map.plot(ax=ax)"
   ]
  },
  {
   "cell_type": "code",
   "execution_count": 43,
   "metadata": {},
   "outputs": [
    {
     "data": {
      "text/plain": [
       "[<shapely.geometry.point.Point at 0x11b96a710>,\n",
       " <shapely.geometry.point.Point at 0x11b96ae48>,\n",
       " <shapely.geometry.point.Point at 0x11b96aa20>]"
      ]
     },
     "execution_count": 43,
     "metadata": {},
     "output_type": "execute_result"
    }
   ],
   "source": [
    "\n",
    "geometry = [Point(xy) for xy in zip(lat_long['longitude'], lat_long['latitude'])]\n",
    "geometry[:3]"
   ]
  },
  {
   "cell_type": "code",
   "execution_count": 44,
   "metadata": {},
   "outputs": [],
   "source": [
    "geo_df = gpd.GeoDataFrame(df, crs=crs, geometry=geometry)"
   ]
  },
  {
   "cell_type": "code",
   "execution_count": 45,
   "metadata": {},
   "outputs": [
    {
     "data": {
      "text/plain": [
       "<matplotlib.axes._subplots.AxesSubplot at 0x11cfc9e48>"
      ]
     },
     "execution_count": 45,
     "metadata": {},
     "output_type": "execute_result"
    },
    {
     "data": {
      "image/png": "[encoded data removed]",
      "text/plain": [
       "<Figure size 1080x1080 with 1 Axes>"
      ]
     },
     "metadata": {
      "needs_background": "light"
     },
     "output_type": "display_data"
    }
   ],
   "source": [
    "fig,ax = plt.subplots(figsize=(15,15))\n",
    "ne_map.plot(ax=ax)\n",
    "geo_df.plot(ax=ax)"
   ]
  },
  {
   "cell_type": "code",
   "execution_count": 4,
   "metadata": {},
   "outputs": [
    {
     "name": "stdout",
     "output_type": "stream",
     "text": [
      "<class 'pandas.core.frame.DataFrame'>\n",
      "RangeIndex: 11353 entries, 0 to 11352\n",
      "Data columns (total 12 columns):\n",
      "0     11353 non-null float64\n",
      "1     11353 non-null float64\n",
      "2     11353 non-null object\n",
      "3     11353 non-null object\n",
      "4     11353 non-null object\n",
      "5     11353 non-null float64\n",
      "6     11353 non-null object\n",
      "7     11353 non-null object\n",
      "8     11353 non-null object\n",
      "9     11353 non-null object\n",
      "10    11353 non-null object\n",
      "11    11353 non-null object\n",
      "dtypes: float64(3), object(9)\n",
      "memory usage: 1.0+ MB\n"
     ]
    }
   ],
   "source": [
    "#Fixing duplicated in CT_MA_RI_cleaned.csv\n",
    "\n",
    "df = pd.read_csv('CT_MA_RI_cleaned.csv', header=None)\n",
    "df.info()\n"
   ]
  },
  {
   "cell_type": "code",
   "execution_count": 6,
   "metadata": {},
   "outputs": [
    {
     "name": "stdout",
     "output_type": "stream",
     "text": [
      "<class 'pandas.core.frame.DataFrame'>\n",
      "Int64Index: 11353 entries, 0 to 11352\n",
      "Data columns (total 12 columns):\n",
      "0     11353 non-null float64\n",
      "1     11353 non-null float64\n",
      "2     11353 non-null object\n",
      "3     11353 non-null object\n",
      "4     11353 non-null object\n",
      "5     11353 non-null float64\n",
      "6     11353 non-null object\n",
      "7     11353 non-null object\n",
      "8     11353 non-null object\n",
      "9     11353 non-null object\n",
      "10    11353 non-null object\n",
      "11    11353 non-null object\n",
      "dtypes: float64(3), object(9)\n",
      "memory usage: 1.1+ MB\n"
     ]
    }
   ],
   "source": [
    "df = df.drop_duplicates()\n",
    "df.info()"
   ]
  },
  {
   "cell_type": "code",
   "execution_count": null,
   "metadata": {},
   "outputs": [],
   "source": []
  }
 ],
 "metadata": {
  "kernelspec": {
   "display_name": "Python 3",
   "language": "python",
   "name": "python3"
  },
  "language_info": {
   "codemirror_mode": {
    "name": "ipython",
    "version": 3
   },
   "file_extension": ".py",
   "mimetype": "text/x-python",
   "name": "python",
   "nbconvert_exporter": "python",
   "pygments_lexer": "ipython3",
   "version": "3.7.3"
  }
 },
 "nbformat": 4,
 "nbformat_minor": 2
}
